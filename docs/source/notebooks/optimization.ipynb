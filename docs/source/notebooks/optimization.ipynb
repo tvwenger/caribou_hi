{
 "cells": [
  {
   "cell_type": "markdown",
   "id": "049ed0ad",
   "metadata": {},
   "source": [
    "# Optimization Tutorial\n",
    "\n",
    "Trey V. Wenger (c) March 2025\n",
    "\n",
    "Here we demonstrate how to optimize the number of cloud components in a `EmissionAbsorptionModel` model."
   ]
  },
  {
   "cell_type": "code",
   "execution_count": 1,
   "id": "f1c46dd4",
   "metadata": {
    "ExecuteTime": {
     "end_time": "2024-08-05T19:59:06.989214Z",
     "start_time": "2024-08-05T19:59:04.772064Z"
    }
   },
   "outputs": [
    {
     "name": "stdout",
     "output_type": "stream",
     "text": [
      "pymc version: 5.21.1\n",
      "bayes_spec version: 1.7.5\n",
      "caribou_hi version: 1.3.1a0+1.g7fcf136.dirty\n"
     ]
    }
   ],
   "source": [
    "# General imports    \n",
    "import time\n",
    "\n",
    "import matplotlib.pyplot as plt\n",
    "import arviz as az\n",
    "import pandas as pd\n",
    "import numpy as np\n",
    "import pymc as pm\n",
    "\n",
    "print(\"pymc version:\", pm.__version__)\n",
    "print(\"arviz version:\", az.__version__)\n",
    "\n",
    "import bayes_spec\n",
    "print(\"bayes_spec version:\", bayes_spec.__version__)\n",
    "\n",
    "import caribou_hi\n",
    "print(\"caribou_hi version:\", caribou_hi.__version__)\n",
    "\n",
    "# Notebook configuration\n",
    "pd.options.display.max_rows = None"
   ]
  },
  {
   "cell_type": "markdown",
   "id": "70d808d8",
   "metadata": {},
   "source": [
    "## Model Definition and Simulated Data"
   ]
  },
  {
   "cell_type": "code",
   "execution_count": 2,
   "id": "da706708",
   "metadata": {
    "ExecuteTime": {
     "end_time": "2024-08-05T19:59:10.588998Z",
     "start_time": "2024-08-05T19:59:06.991731Z"
    }
   },
   "outputs": [],
   "source": [
    "from bayes_spec import SpecData\n",
    "\n",
    "# spectral axes definitions\n",
    "emission_axis = np.linspace(-60.0, 60.0, 200)  # km s-1\n",
    "absorption_axis = np.linspace(-30.0, 30.0, 100)  # km s-1\n",
    "\n",
    "# data noise can either be a scalar (assumed constant noise across the spectrum)\n",
    "# or an array of the same length as the data\n",
    "rms_emission = 0.1  # K\n",
    "rms_absorption = 0.01  # 1 - exp(-tau)\n",
    "\n",
    "# brightness data. In this case, we just throw in some random data for now\n",
    "# since we are only doing this in order to simulate some actual data.\n",
    "emission = rms_emission * np.random.randn(len(emission_axis))\n",
    "absorption = rms_absorption * np.random.randn(len(absorption_axis))\n",
    "\n",
    "dummy_data = {\n",
    "    \"emission\": SpecData(\n",
    "        emission_axis,\n",
    "        emission,\n",
    "        rms_emission,\n",
    "        xlabel=r\"$V_{\\rm LSR}$ (km s$^{-1}$)\",\n",
    "        ylabel=r\"$T_B$ (K)\",\n",
    "    ),\n",
    "    \"absorption\": SpecData(\n",
    "        absorption_axis,\n",
    "        absorption,\n",
    "        rms_absorption,\n",
    "        xlabel=r\"$V_{\\rm LSR}$ (km s$^{-1}$)\",\n",
    "        ylabel=r\"1 - exp(-$\\tau$)\",\n",
    "    ),\n",
    "}"
   ]
  },
  {
   "cell_type": "code",
   "execution_count": 3,
   "id": "e183b304-a87b-4c53-83c6-03476a556585",
   "metadata": {},
   "outputs": [],
   "source": [
    "from caribou_hi import EmissionAbsorptionModel\n",
    "\n",
    "# Initialize and define the model\n",
    "n_clouds = 3\n",
    "baseline_degree = 0\n",
    "model = EmissionAbsorptionModel(\n",
    "    dummy_data,\n",
    "    n_clouds=n_clouds,\n",
    "    baseline_degree=baseline_degree,\n",
    "    bg_temp=3.77,  # assumed background temperature (K)\n",
    "    seed=1234,\n",
    "    verbose=True,\n",
    ")\n",
    "model.add_priors(\n",
    "    prior_log10_NHI=[20.0, 1.0],  # log10(NHI) prior mean and width (cm-2)\n",
    "    prior_log10_depth=[1.0, 1.0],  # log10(depth) prior mean and width (pc)\n",
    "    prior_log10_pressure=[3.0, 1.0],  # log10(pressure/k_B) prior mean and width (K cm-3)\n",
    "    prior_velocity=[0.0, 10.0],  # mean and width of velocity prior (km/s)\n",
    "    prior_log10_n_alpha=[-6.0, 1.0],  # log10(n_alpha) prior mean and width (cm-3)\n",
    "    prior_log10_nth_fwhm_1pc=[0.2, 0.1],  # log10(non-thermal FWHM at 1 pc) prior mean and width (km s-1)\n",
    "    prior_depth_nth_fwhm_power=[0.3, 0.1],  # non-thermal FWHM vs. depth power law index prior mean and width\n",
    "    prior_fwhm_L=None,  # Assume Gaussian line profile\n",
    "    prior_baseline_coeffs=None,  # Default baseline priors\n",
    "    ordered=False,  # do not assume optically-thin\n",
    "    hyper_depth_linewidth=False,  # do not assume shared size-linewidth relationship\n",
    ")\n",
    "model.add_likelihood()"
   ]
  },
  {
   "cell_type": "code",
   "execution_count": 4,
   "id": "22c23708-937f-4d9b-8f16-5b640287d744",
   "metadata": {},
   "outputs": [],
   "source": [
    "# Evaluate likelihood for given model parameters\n",
    "sim_params = {\n",
    "    \"log10_NHI\": np.array([20.5, 20.25, 21.0]),\n",
    "    \"log10_depth\": np.array([0.5, 1.5, 2.5]),\n",
    "    \"log10_pressure\": np.array([3.25, 3.0, 3.75]),\n",
    "    \"velocity\": np.array([-4.0, 0.0, 15.5]),\n",
    "    \"log10_n_alpha\": -6.5,\n",
    "    \"log10_nth_fwhm_1pc\": [0.2, 0.3, 0.4],\n",
    "    \"depth_nth_fwhm_power\": [0.2, 0.4, 0.3],\n",
    "    \"filling_factor\": [0.3, 0.8, 1.0],\n",
    "    \"absorption_weight\": [0.8, 0.9, 1.0],\n",
    "    \"baseline_emission_norm\": [0.0],\n",
    "    \"baseline_absorption_norm\": [0.0],\n",
    "}\n",
    "\n",
    "# add derived quantities to sim_params\n",
    "for key in model.cloud_deterministics:\n",
    "    if key not in sim_params.keys():\n",
    "        sim_params[key] = model.model[key].eval(sim_params, on_unused_input=\"ignore\")\n",
    "\n",
    "# Evaluate and save simulated observation\n",
    "emission = model.model[\"emission\"].eval(sim_params, on_unused_input=\"ignore\")\n",
    "absorption = model.model[\"absorption\"].eval(sim_params, on_unused_input=\"ignore\")\n",
    "\n",
    "data = {\n",
    "    \"emission\": SpecData(\n",
    "        emission_axis,\n",
    "        emission,\n",
    "        rms_emission,\n",
    "        xlabel=r\"$V_{\\rm LSR}$ (km s$^{-1}$)\",\n",
    "        ylabel=r\"$T_B$ (K)\",\n",
    "    ),\n",
    "    \"absorption\": SpecData(\n",
    "        absorption_axis,\n",
    "        absorption,\n",
    "        rms_absorption,\n",
    "        xlabel=r\"$V_{\\rm LSR}$ (km s$^{-1}$)\",\n",
    "        ylabel=r\"1 - exp(-$\\tau$)\",\n",
    "    ),\n",
    "}"
   ]
  },
  {
   "cell_type": "code",
   "execution_count": 5,
   "id": "15c936e8",
   "metadata": {},
   "outputs": [
    {
     "data": {
      "image/png": "[encoded data removed]",
      "text/plain": [
       "<Figure size 640x480 with 2 Axes>"
      ]
     },
     "metadata": {},
     "output_type": "display_data"
    }
   ],
   "source": [
    "# Plot data\n",
    "fig, axes = plt.subplots(2, layout=\"constrained\", sharex=True)\n",
    "axes[0].plot(data[\"emission\"].spectral, data[\"emission\"].brightness, \"k-\")\n",
    "axes[0].plot(data[\"emission\"].spectral, data[\"emission\"].noise, \"r-\")\n",
    "axes[1].plot(data[\"absorption\"].spectral, data[\"absorption\"].brightness, \"k-\", label=\"Data\")\n",
    "axes[1].plot(data[\"absorption\"].spectral, data[\"absorption\"].noise, \"r-\", label=\"Noise\")\n",
    "axes[1].set_xlabel(data[\"emission\"].xlabel)\n",
    "axes[0].set_ylabel(data[\"emission\"].ylabel)\n",
    "axes[1].set_ylabel(data[\"absorption\"].ylabel)\n",
    "_ = axes[1].legend(loc=\"upper left\")"
   ]
  },
  {
   "cell_type": "markdown",
   "id": "20a2225f",
   "metadata": {},
   "source": [
    "## `Optimize`\n",
    "\n",
    "We use the `Optimize` class for optimization."
   ]
  },
  {
   "cell_type": "code",
   "execution_count": 7,
   "id": "ec488d1d",
   "metadata": {
    "ExecuteTime": {
     "end_time": "2024-08-05T19:59:10.725568Z",
     "start_time": "2024-08-05T19:59:10.599441Z"
    }
   },
   "outputs": [],
   "source": [
    "from bayes_spec import Optimize\n",
    "\n",
    "# Initialize optimizer\n",
    "opt = Optimize(\n",
    "    EmissionAbsorptionModel,  # model definition\n",
    "    data,  # data dictionary\n",
    "    max_n_clouds=5,  # maximum number of clouds\n",
    "    baseline_degree=baseline_degree,  # polynomial baseline degree\n",
    "    bg_temp=3.77,  # assumed background brightness temperature (K)\n",
    "    seed=1234,  # random seed\n",
    "    verbose=True,  # verbosity\n",
    ")\n",
    "\n",
    "# Define each model\n",
    "opt.add_priors(\n",
    "    prior_log10_NHI=[20.0, 1.0],  # log10(NHI) prior mean and width (cm-2)\n",
    "    prior_log10_depth=[1.0, 1.0],  # log10(depth) prior mean and width (pc)\n",
    "    prior_log10_pressure=[3.0, 1.0],  # log10(pressure/k_B) prior mean and width (K cm-3)\n",
    "    prior_velocity=[0.0, 10.0],  # mean and width of velocity prior (km/s)\n",
    "    prior_log10_n_alpha=[-6.0, 1.0],  # log10(n_alpha) prior mean and width (cm-3)\n",
    "    prior_log10_nth_fwhm_1pc=[0.2, 0.1],  # log10(non-thermal FWHM at 1 pc) prior mean and width (km s-1)\n",
    "    prior_depth_nth_fwhm_power=[0.3, 0.1],  # non-thermal FWHM vs. depth power law index prior mean and width\n",
    "    prior_fwhm_L=None,  # Assume Gaussian line profile\n",
    "    prior_baseline_coeffs=None,  # Default baseline priors\n",
    "    ordered=False,  # do not assume optically-thin\n",
    "    hyper_depth_linewidth=False,  # do not assume hyper size-linewidth relationship\n",
    ")\n",
    "opt.add_likelihood()"
   ]
  },
  {
   "cell_type": "markdown",
   "id": "6b4b0d06",
   "metadata": {},
   "source": [
    "`Optimize` has created `max_n_clouds` models, where `opt.models[1]` has `n_clouds=1`, `opt.models[2]` has `n_clouds=2`, etc."
   ]
  },
  {
   "cell_type": "code",
   "execution_count": 8,
   "id": "e66910c3",
   "metadata": {
    "ExecuteTime": {
     "end_time": "2024-08-05T19:59:10.730059Z",
     "start_time": "2024-08-05T19:59:10.727121Z"
    }
   },
   "outputs": [
    {
     "name": "stdout",
     "output_type": "stream",
     "text": [
      "<caribou_hi.emission_absorption_model.EmissionAbsorptionModel object at 0x7f7a1e245d50>\n",
      "4\n"
     ]
    }
   ],
   "source": [
    "print(opt.models[4])\n",
    "print(opt.models[4].n_clouds)"
   ]
  },
  {
   "cell_type": "markdown",
   "id": "3cc17df3",
   "metadata": {},
   "source": [
    "By default (`approx=True`), the optimization algorithm first loops over every model and approximates the posterior distribution using variational inference. This is generally a bad idea, since VI is only an approximation and tends to struggle with complex models. Instead we use `approx=False` to sample every model with MCMC. This is slower but more robust.\n",
    "\n",
    "We can supply arguments to `fit` and `sample` via dictionaries. Whichever model is the first to have a BIC within `bic_threshold` of the minimum BIC is the \"best\" model. The algorithm will terminate early if successive models have increasing BICs or fail to converge."
   ]
  },
  {
   "cell_type": "code",
   "execution_count": 9,
   "id": "cf08c08c",
   "metadata": {
    "ExecuteTime": {
     "end_time": "2024-08-05T19:59:59.141293Z",
     "start_time": "2024-08-05T19:59:10.731559Z"
    }
   },
   "outputs": [
    {
     "name": "stdout",
     "output_type": "stream",
     "text": [
      "Null hypothesis BIC = 1.338e+06\n",
      "CHECK {'rel_tolerance': 0.05, 'abs_tolerance': 0.05, 'learning_rate': 0.01}\n",
      "Sampling n_cloud = 1 posterior...\n",
      "Initializing NUTS using custom advi+adapt_diag strategy\n"
     ]
    },
    {
     "data": {
      "application/vnd.jupyter.widget-view+json": {
       "model_id": "81a5c282aace44bcbf39fb611d335971",
       "version_major": 2,
       "version_minor": 0
      },
      "text/plain": [
       "Output()"
      ]
     },
     "metadata": {},
     "output_type": "display_data"
    },
    {
     "data": {
      "text/html": [
       "<pre style=\"white-space:pre;overflow-x:auto;line-height:normal;font-family:Menlo,'DejaVu Sans Mono',consolas,'Courier New',monospace\"></pre>\n"
      ],
      "text/plain": []
     },
     "metadata": {},
     "output_type": "display_data"
    },
    {
     "name": "stderr",
     "output_type": "stream",
     "text": [
      "Convergence achieved at 5800\n",
      "Interrupted at 5,799 [5%]: Average Loss = 2.0134e+05\n",
      "Multiprocess sampling (8 chains in 8 jobs)\n",
      "NUTS: [baseline_emission_norm, baseline_absorption_norm, log10_NHI_norm, log10_depth_norm, log10_pressure_norm, velocity_norm, log10_n_alpha_norm, log10_nth_fwhm_1pc_norm, depth_nth_fwhm_power, filling_factor, absorption_weight]\n"
     ]
    },
    {
     "data": {
      "application/vnd.jupyter.widget-view+json": {
       "model_id": "034307066d254092b660b78a56a49f4f",
       "version_major": 2,
       "version_minor": 0
      },
      "text/plain": [
       "Output()"
      ]
     },
     "metadata": {},
     "output_type": "display_data"
    },
    {
     "data": {
      "text/html": [
       "<pre style=\"white-space:pre;overflow-x:auto;line-height:normal;font-family:Menlo,'DejaVu Sans Mono',consolas,'Courier New',monospace\"></pre>\n"
      ],
      "text/plain": []
     },
     "metadata": {},
     "output_type": "display_data"
    },
    {
     "name": "stderr",
     "output_type": "stream",
     "text": [
      "Sampling 8 chains for 1_000 tune and 1_000 draw iterations (8_000 + 8_000 draws total) took 312 seconds.\n"
     ]
    },
    {
     "name": "stdout",
     "output_type": "stream",
     "text": [
      "Adding log-likelihood to trace\n"
     ]
    },
    {
     "data": {
      "application/vnd.jupyter.widget-view+json": {
       "model_id": "a91d02a96a714408867eec3f60a3db39",
       "version_major": 2,
       "version_minor": 0
      },
      "text/plain": [
       "Output()"
      ]
     },
     "metadata": {},
     "output_type": "display_data"
    },
    {
     "data": {
      "text/html": [
       "<pre style=\"white-space:pre;overflow-x:auto;line-height:normal;font-family:Menlo,'DejaVu Sans Mono',consolas,'Courier New',monospace\"></pre>\n"
      ],
      "text/plain": []
     },
     "metadata": {},
     "output_type": "display_data"
    },
    {
     "name": "stdout",
     "output_type": "stream",
     "text": [
      "There were 80 divergences in converged chains.\n",
      "GMM converged to unique solution\n",
      "n_cloud = 1 solution = 0 BIC = 5.861e+04\n",
      "\n",
      "Sampling n_cloud = 2 posterior...\n",
      "Initializing NUTS using custom advi+adapt_diag strategy\n"
     ]
    },
    {
     "data": {
      "application/vnd.jupyter.widget-view+json": {
       "model_id": "a841dcbb1b334fb19d066c65e86d8ff1",
       "version_major": 2,
       "version_minor": 0
      },
      "text/plain": [
       "Output()"
      ]
     },
     "metadata": {},
     "output_type": "display_data"
    },
    {
     "data": {
      "text/html": [
       "<pre style=\"white-space:pre;overflow-x:auto;line-height:normal;font-family:Menlo,'DejaVu Sans Mono',consolas,'Courier New',monospace\"></pre>\n"
      ],
      "text/plain": []
     },
     "metadata": {},
     "output_type": "display_data"
    },
    {
     "name": "stderr",
     "output_type": "stream",
     "text": [
      "Convergence achieved at 11800\n",
      "Interrupted at 11,799 [11%]: Average Loss = 91,619\n",
      "Multiprocess sampling (8 chains in 8 jobs)\n",
      "NUTS: [baseline_emission_norm, baseline_absorption_norm, log10_NHI_norm, log10_depth_norm, log10_pressure_norm, velocity_norm, log10_n_alpha_norm, log10_nth_fwhm_1pc_norm, depth_nth_fwhm_power, filling_factor, absorption_weight]\n"
     ]
    },
    {
     "data": {
      "application/vnd.jupyter.widget-view+json": {
       "model_id": "6952b8c1007b4c0dba307ba022d137f4",
       "version_major": 2,
       "version_minor": 0
      },
      "text/plain": [
       "Output()"
      ]
     },
     "metadata": {},
     "output_type": "display_data"
    },
    {
     "data": {
      "text/html": [
       "<pre style=\"white-space:pre;overflow-x:auto;line-height:normal;font-family:Menlo,'DejaVu Sans Mono',consolas,'Courier New',monospace\"></pre>\n"
      ],
      "text/plain": []
     },
     "metadata": {},
     "output_type": "display_data"
    },
    {
     "name": "stderr",
     "output_type": "stream",
     "text": [
      "Sampling 8 chains for 1_000 tune and 1_000 draw iterations (8_000 + 8_000 draws total) took 328 seconds.\n"
     ]
    },
    {
     "name": "stdout",
     "output_type": "stream",
     "text": [
      "Adding log-likelihood to trace\n"
     ]
    },
    {
     "data": {
      "application/vnd.jupyter.widget-view+json": {
       "model_id": "4a2a0d86c5d44cd8938e16fb68ff1a11",
       "version_major": 2,
       "version_minor": 0
      },
      "text/plain": [
       "Output()"
      ]
     },
     "metadata": {},
     "output_type": "display_data"
    },
    {
     "data": {
      "text/html": [
       "<pre style=\"white-space:pre;overflow-x:auto;line-height:normal;font-family:Menlo,'DejaVu Sans Mono',consolas,'Courier New',monospace\"></pre>\n"
      ],
      "text/plain": []
     },
     "metadata": {},
     "output_type": "display_data"
    },
    {
     "name": "stdout",
     "output_type": "stream",
     "text": [
      "GMM converged to unique solution\n",
      "n_cloud = 2 solution = 0 BIC = 1.698e+04\n",
      "\n",
      "Sampling n_cloud = 3 posterior...\n",
      "Initializing NUTS using custom advi+adapt_diag strategy\n"
     ]
    },
    {
     "data": {
      "application/vnd.jupyter.widget-view+json": {
       "model_id": "f0144f7f60304de08c6c5e8179839604",
       "version_major": 2,
       "version_minor": 0
      },
      "text/plain": [
       "Output()"
      ]
     },
     "metadata": {},
     "output_type": "display_data"
    },
    {
     "data": {
      "text/html": [
       "<pre style=\"white-space:pre;overflow-x:auto;line-height:normal;font-family:Menlo,'DejaVu Sans Mono',consolas,'Courier New',monospace\"></pre>\n"
      ],
      "text/plain": []
     },
     "metadata": {},
     "output_type": "display_data"
    },
    {
     "name": "stderr",
     "output_type": "stream",
     "text": [
      "Convergence achieved at 11400\n",
      "Interrupted at 11,399 [11%]: Average Loss = 84,578\n",
      "Multiprocess sampling (8 chains in 8 jobs)\n",
      "NUTS: [baseline_emission_norm, baseline_absorption_norm, log10_NHI_norm, log10_depth_norm, log10_pressure_norm, velocity_norm, log10_n_alpha_norm, log10_nth_fwhm_1pc_norm, depth_nth_fwhm_power, filling_factor, absorption_weight]\n"
     ]
    },
    {
     "data": {
      "application/vnd.jupyter.widget-view+json": {
       "model_id": "8231b5fa42f242508cc4b31d2b31d26d",
       "version_major": 2,
       "version_minor": 0
      },
      "text/plain": [
       "Output()"
      ]
     },
     "metadata": {},
     "output_type": "display_data"
    },
    {
     "data": {
      "text/html": [
       "<pre style=\"white-space:pre;overflow-x:auto;line-height:normal;font-family:Menlo,'DejaVu Sans Mono',consolas,'Courier New',monospace\"></pre>\n"
      ],
      "text/plain": []
     },
     "metadata": {},
     "output_type": "display_data"
    },
    {
     "name": "stderr",
     "output_type": "stream",
     "text": [
      "Sampling 8 chains for 1_000 tune and 1_000 draw iterations (8_000 + 8_000 draws total) took 358 seconds.\n"
     ]
    },
    {
     "name": "stdout",
     "output_type": "stream",
     "text": [
      "Adding log-likelihood to trace\n"
     ]
    },
    {
     "data": {
      "application/vnd.jupyter.widget-view+json": {
       "model_id": "4b10a19024354d5fbf10e3b5ccffe67a",
       "version_major": 2,
       "version_minor": 0
      },
      "text/plain": [
       "Output()"
      ]
     },
     "metadata": {},
     "output_type": "display_data"
    },
    {
     "data": {
      "text/html": [
       "<pre style=\"white-space:pre;overflow-x:auto;line-height:normal;font-family:Menlo,'DejaVu Sans Mono',consolas,'Courier New',monospace\"></pre>\n"
      ],
      "text/plain": []
     },
     "metadata": {},
     "output_type": "display_data"
    },
    {
     "name": "stdout",
     "output_type": "stream",
     "text": [
      "There were 125 divergences in converged chains.\n",
      "GMM converged to unique solution\n",
      "n_cloud = 3 solution = 0 BIC = -8.552e+02\n",
      "\n",
      "Sampling n_cloud = 4 posterior...\n",
      "Initializing NUTS using custom advi+adapt_diag strategy\n"
     ]
    },
    {
     "data": {
      "application/vnd.jupyter.widget-view+json": {
       "model_id": "f615591b1d6443198cbd032e2aaea44d",
       "version_major": 2,
       "version_minor": 0
      },
      "text/plain": [
       "Output()"
      ]
     },
     "metadata": {},
     "output_type": "display_data"
    },
    {
     "data": {
      "text/html": [
       "<pre style=\"white-space:pre;overflow-x:auto;line-height:normal;font-family:Menlo,'DejaVu Sans Mono',consolas,'Courier New',monospace\"></pre>\n"
      ],
      "text/plain": []
     },
     "metadata": {},
     "output_type": "display_data"
    },
    {
     "name": "stderr",
     "output_type": "stream",
     "text": [
      "Convergence achieved at 14600\n",
      "Interrupted at 14,599 [14%]: Average Loss = 66,495\n",
      "Multiprocess sampling (8 chains in 8 jobs)\n",
      "NUTS: [baseline_emission_norm, baseline_absorption_norm, log10_NHI_norm, log10_depth_norm, log10_pressure_norm, velocity_norm, log10_n_alpha_norm, log10_nth_fwhm_1pc_norm, depth_nth_fwhm_power, filling_factor, absorption_weight]\n"
     ]
    },
    {
     "data": {
      "application/vnd.jupyter.widget-view+json": {
       "model_id": "1fc6dae8a94c46dcbfbf255e83cc2732",
       "version_major": 2,
       "version_minor": 0
      },
      "text/plain": [
       "Output()"
      ]
     },
     "metadata": {},
     "output_type": "display_data"
    },
    {
     "data": {
      "text/html": [
       "<pre style=\"white-space:pre;overflow-x:auto;line-height:normal;font-family:Menlo,'DejaVu Sans Mono',consolas,'Courier New',monospace\"></pre>\n"
      ],
      "text/plain": []
     },
     "metadata": {},
     "output_type": "display_data"
    },
    {
     "name": "stderr",
     "output_type": "stream",
     "text": [
      "Sampling 8 chains for 1_000 tune and 1_000 draw iterations (8_000 + 8_000 draws total) took 385 seconds.\n"
     ]
    },
    {
     "name": "stdout",
     "output_type": "stream",
     "text": [
      "Adding log-likelihood to trace\n"
     ]
    },
    {
     "data": {
      "application/vnd.jupyter.widget-view+json": {
       "model_id": "8adc9fde5a804add9319e9b940f8266a",
       "version_major": 2,
       "version_minor": 0
      },
      "text/plain": [
       "Output()"
      ]
     },
     "metadata": {},
     "output_type": "display_data"
    },
    {
     "data": {
      "text/html": [
       "<pre style=\"white-space:pre;overflow-x:auto;line-height:normal;font-family:Menlo,'DejaVu Sans Mono',consolas,'Courier New',monospace\"></pre>\n"
      ],
      "text/plain": []
     },
     "metadata": {},
     "output_type": "display_data"
    },
    {
     "name": "stdout",
     "output_type": "stream",
     "text": [
      "There were 98 divergences in converged chains.\n",
      "GMM converged to unique solution\n",
      "2 of 8 chains appear converged.\n",
      "n_cloud = 4 solution = 0 BIC = -8.147e+02\n",
      "\n",
      "Stopping criteria met.\n",
      "Sampling n_cloud = 5 posterior...\n",
      "Initializing NUTS using custom advi+adapt_diag strategy\n"
     ]
    },
    {
     "data": {
      "application/vnd.jupyter.widget-view+json": {
       "model_id": "c1ba6c73b0f149d39b595dcac50dc7a0",
       "version_major": 2,
       "version_minor": 0
      },
      "text/plain": [
       "Output()"
      ]
     },
     "metadata": {},
     "output_type": "display_data"
    },
    {
     "data": {
      "text/html": [
       "<pre style=\"white-space:pre;overflow-x:auto;line-height:normal;font-family:Menlo,'DejaVu Sans Mono',consolas,'Courier New',monospace\"></pre>\n"
      ],
      "text/plain": []
     },
     "metadata": {},
     "output_type": "display_data"
    },
    {
     "name": "stderr",
     "output_type": "stream",
     "text": [
      "Convergence achieved at 11200\n",
      "Interrupted at 11,199 [11%]: Average Loss = 91,750\n",
      "Multiprocess sampling (8 chains in 8 jobs)\n",
      "NUTS: [baseline_emission_norm, baseline_absorption_norm, log10_NHI_norm, log10_depth_norm, log10_pressure_norm, velocity_norm, log10_n_alpha_norm, log10_nth_fwhm_1pc_norm, depth_nth_fwhm_power, filling_factor, absorption_weight]\n"
     ]
    },
    {
     "data": {
      "application/vnd.jupyter.widget-view+json": {
       "model_id": "f8cdda33b152472aad26f158cff6dec3",
       "version_major": 2,
       "version_minor": 0
      },
      "text/plain": [
       "Output()"
      ]
     },
     "metadata": {},
     "output_type": "display_data"
    },
    {
     "data": {
      "text/html": [
       "<pre style=\"white-space:pre;overflow-x:auto;line-height:normal;font-family:Menlo,'DejaVu Sans Mono',consolas,'Courier New',monospace\"></pre>\n"
      ],
      "text/plain": []
     },
     "metadata": {},
     "output_type": "display_data"
    },
    {
     "name": "stderr",
     "output_type": "stream",
     "text": [
      "Sampling 8 chains for 1_000 tune and 1_000 draw iterations (8_000 + 8_000 draws total) took 420 seconds.\n"
     ]
    },
    {
     "name": "stdout",
     "output_type": "stream",
     "text": [
      "Adding log-likelihood to trace\n"
     ]
    },
    {
     "data": {
      "application/vnd.jupyter.widget-view+json": {
       "model_id": "e472563d6d4e479aae65b99549b9b5b9",
       "version_major": 2,
       "version_minor": 0
      },
      "text/plain": [
       "Output()"
      ]
     },
     "metadata": {},
     "output_type": "display_data"
    },
    {
     "data": {
      "text/html": [
       "<pre style=\"white-space:pre;overflow-x:auto;line-height:normal;font-family:Menlo,'DejaVu Sans Mono',consolas,'Courier New',monospace\"></pre>\n"
      ],
      "text/plain": []
     },
     "metadata": {},
     "output_type": "display_data"
    },
    {
     "name": "stdout",
     "output_type": "stream",
     "text": [
      "There were 105 divergences in converged chains.\n",
      "No solution found!\n",
      "0 of 8 chains appear converged.\n",
      "\n",
      "Stopping criteria met.\n",
      "Stopping early.\n"
     ]
    }
   ],
   "source": [
    "fit_kwargs = {\n",
    "    \"rel_tolerance\": 0.05,\n",
    "    \"abs_tolerance\": 0.05,\n",
    "    \"learning_rate\": 0.01,\n",
    "}\n",
    "sample_kwargs = {\n",
    "    \"chains\": 8,\n",
    "    \"cores\": 8,\n",
    "    \"init_kwargs\": fit_kwargs,\n",
    "    \"nuts_kwargs\": {\"target_accept\": 0.8},\n",
    "}\n",
    "opt.optimize(bic_threshold=10.0, sample_kwargs=sample_kwargs, fit_kwargs=fit_kwargs, approx=False)"
   ]
  },
  {
   "cell_type": "code",
   "execution_count": 10,
   "id": "0486ae8b",
   "metadata": {},
   "outputs": [
    {
     "data": {
      "text/plain": [
       "3"
      ]
     },
     "execution_count": 10,
     "metadata": {},
     "output_type": "execute_result"
    }
   ],
   "source": [
    "opt.best_model.n_clouds"
   ]
  },
  {
   "cell_type": "code",
   "execution_count": 11,
   "id": "ba72835b",
   "metadata": {},
   "outputs": [
    {
     "name": "stderr",
     "output_type": "stream",
     "text": [
      "Sampling: [absorption, emission]\n"
     ]
    },
    {
     "data": {
      "application/vnd.jupyter.widget-view+json": {
       "model_id": "c933cc439de84177bed3c9ecbe7b3b59",
       "version_major": 2,
       "version_minor": 0
      },
      "text/plain": [
       "Output()"
      ]
     },
     "metadata": {},
     "output_type": "display_data"
    },
    {
     "data": {
      "text/html": [
       "<pre style=\"white-space:pre;overflow-x:auto;line-height:normal;font-family:Menlo,'DejaVu Sans Mono',consolas,'Courier New',monospace\"></pre>\n"
      ],
      "text/plain": []
     },
     "metadata": {},
     "output_type": "display_data"
    },
    {
     "data": {
      "image/png": "[encoded data removed]",
      "text/plain": [
       "<Figure size 640x480 with 2 Axes>"
      ]
     },
     "metadata": {},
     "output_type": "display_data"
    }
   ],
   "source": [
    "from bayes_spec.plots import plot_predictive\n",
    "\n",
    "posterior = opt.best_model.sample_posterior_predictive(\n",
    "    thin=100, # keep one in {thin} posterior samples\n",
    ")\n",
    "axes = plot_predictive(opt.best_model.data, posterior.posterior_predictive)\n",
    "axes.ravel()[0].sharex(axes.ravel()[1])"
   ]
  },
  {
   "cell_type": "code",
   "execution_count": null,
   "id": "99a89912-b4ae-4f25-a1af-8005328aed12",
   "metadata": {},
   "outputs": [],
   "source": []
  }
 ],
 "metadata": {
  "kernelspec": {
   "display_name": "Python 3 (ipykernel)",
   "language": "python",
   "name": "python3"
  },
  "language_info": {
   "codemirror_mode": {
    "name": "ipython",
    "version": 3
   },
   "file_extension": ".py",
   "mimetype": "text/x-python",
   "name": "python",
   "nbconvert_exporter": "python",
   "pygments_lexer": "ipython3",
   "version": "3.13.2"
  }
 },
 "nbformat": 4,
 "nbformat_minor": 5
}
