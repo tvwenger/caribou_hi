{
 "cells": [
  {
   "cell_type": "markdown",
   "id": "049ed0ad",
   "metadata": {},
   "source": [
    "# Optimization Tutorial\n",
    "\n",
    "Trey V. Wenger (c) April 2025\n",
    "\n",
    "Here we demonstrate how to optimize the number of cloud components in a `EmissionAbsorptionModel` model."
   ]
  },
  {
   "cell_type": "code",
   "execution_count": 1,
   "id": "f1c46dd4",
   "metadata": {
    "ExecuteTime": {
     "end_time": "2024-08-05T19:59:06.989214Z",
     "start_time": "2024-08-05T19:59:04.772064Z"
    }
   },
   "outputs": [
    {
     "name": "stdout",
     "output_type": "stream",
     "text": [
      "pymc version: 5.22.0\n",
      "arviz version: 0.22.0dev\n",
      "bayes_spec version: 1.7.8\n",
      "caribou_hi version: 2.0.1+0.g9e7964e.dirty\n"
     ]
    }
   ],
   "source": [
    "# General imports    \n",
    "import time\n",
    "\n",
    "import matplotlib.pyplot as plt\n",
    "import arviz as az\n",
    "import pandas as pd\n",
    "import numpy as np\n",
    "import pymc as pm\n",
    "\n",
    "print(\"pymc version:\", pm.__version__)\n",
    "print(\"arviz version:\", az.__version__)\n",
    "\n",
    "import bayes_spec\n",
    "print(\"bayes_spec version:\", bayes_spec.__version__)\n",
    "\n",
    "import caribou_hi\n",
    "print(\"caribou_hi version:\", caribou_hi.__version__)\n",
    "\n",
    "# Notebook configuration\n",
    "pd.options.display.max_rows = None"
   ]
  },
  {
   "cell_type": "markdown",
   "id": "70d808d8",
   "metadata": {},
   "source": [
    "## Model Definition and Simulated Data"
   ]
  },
  {
   "cell_type": "code",
   "execution_count": 2,
   "id": "da706708",
   "metadata": {
    "ExecuteTime": {
     "end_time": "2024-08-05T19:59:10.588998Z",
     "start_time": "2024-08-05T19:59:06.991731Z"
    }
   },
   "outputs": [],
   "source": [
    "from bayes_spec import SpecData\n",
    "\n",
    "# spectral axes definitions\n",
    "emission_axis = np.linspace(-60.0, 60.0, 200)  # km s-1\n",
    "absorption_axis = np.linspace(-30.0, 30.0, 100)  # km s-1\n",
    "\n",
    "# data noise can either be a scalar (assumed constant noise across the spectrum)\n",
    "# or an array of the same length as the data\n",
    "rms_emission = 0.1  # K\n",
    "rms_absorption = 0.01  # 1 - exp(-tau)\n",
    "\n",
    "# brightness data. In this case, we just throw in some random data for now\n",
    "# since we are only doing this in order to simulate some actual data.\n",
    "emission = rms_emission * np.random.randn(len(emission_axis))\n",
    "absorption = rms_absorption * np.random.randn(len(absorption_axis))\n",
    "\n",
    "dummy_data = {\n",
    "    \"emission\": SpecData(\n",
    "        emission_axis,\n",
    "        emission,\n",
    "        rms_emission,\n",
    "        xlabel=r\"$V_{\\rm LSR}$ (km s$^{-1}$)\",\n",
    "        ylabel=r\"$T_B$ (K)\",\n",
    "    ),\n",
    "    \"absorption\": SpecData(\n",
    "        absorption_axis,\n",
    "        absorption,\n",
    "        rms_absorption,\n",
    "        xlabel=r\"$V_{\\rm LSR}$ (km s$^{-1}$)\",\n",
    "        ylabel=r\"1 - exp(-$\\tau$)\",\n",
    "    ),\n",
    "}"
   ]
  },
  {
   "cell_type": "code",
   "execution_count": 3,
   "id": "e183b304-a87b-4c53-83c6-03476a556585",
   "metadata": {},
   "outputs": [],
   "source": [
    "from caribou_hi import EmissionAbsorptionPhysicalModel\n",
    "\n",
    "# Initialize and define the model\n",
    "n_clouds = 3\n",
    "baseline_degree = 0\n",
    "model = EmissionAbsorptionPhysicalModel(\n",
    "    dummy_data,\n",
    "    n_clouds=n_clouds,\n",
    "    baseline_degree=baseline_degree,\n",
    "    depth_nth_fwhm_power = 1/3, # assumed non-thermal FWHM vs. depth power law index\n",
    "    bg_temp = 3.77, # assumed background temperature (K)\n",
    "    seed=1234,\n",
    "    verbose=True\n",
    ")\n",
    "model.add_priors(\n",
    "    prior_sigma_log10_NHI=0.5, # log-normal column density distribution width\n",
    "    prior_ff_NHI=1.0e21, # filling factor * column density prior width (cm-2)\n",
    "    prior_fwhm2=500.0, # FWHM^2 prior width (km2 s-2)\n",
    "    prior_fwhm2_thermal_fraction=[2.0, 2.0], # thermal FWHM^2 fraction prior shape\n",
    "    prior_velocity=[0.0, 10.0], # velocity prior mean and width (km/s)\n",
    "    prior_log10_n_alpha=[-6.0, 2.0], # log10(n_alpha) prior mean and width (cm-3)\n",
    "    prior_nth_fwhm_1pc=[1.75, 0.25], # non-thermal FWHM at 1 pc prior mean and width (km s-1)\n",
    "    prior_fwhm_L=None, # Assume Gaussian line profile\n",
    "    prior_baseline_coeffs=None, # Default baseline priors\n",
    ")\n",
    "model.add_likelihood()"
   ]
  },
  {
   "cell_type": "code",
   "execution_count": 4,
   "id": "22c23708-937f-4d9b-8f16-5b640287d744",
   "metadata": {},
   "outputs": [
    {
     "name": "stdout",
     "output_type": "stream",
     "text": [
      "tspin [  49.99731723  297.73994712 2378.08874354]\n",
      "fwhm2_nonthermal [ 11.69607095  26.18400668 100.8316068 ]\n",
      "fwhm2_thermal [  2.2876605  13.725963  228.76605  ]\n",
      "fwhm2 [ 13.98373145  39.90996968 329.5976568 ]\n",
      "fwhm2_thermal_fraction [0.16359442 0.34392316 0.69407669]\n",
      "log10_Pth [2.94897    2.47712125 3.19897   ]\n",
      "log10_NHI [20.438321   19.88729101 20.46647225]\n",
      "tau_total [3.01108799 0.14216839 0.06754502]\n",
      "log10_wt_ff_fwhm2_thermal [ 0.29382094 -1.13754282 -2.35939157]\n"
     ]
    }
   ],
   "source": [
    "from caribou_hi import physics\n",
    "\n",
    "# Simulation parameters\n",
    "filling_factor = np.array([0.2, 0.8, 1.0])\n",
    "absorption_weight = np.array([0.9, 0.8, 1.0])\n",
    "log10_nHI = np.array([1.25, 0.0, -0.5])\n",
    "tkin = np.array([50.0, 300.0, 5000.0])\n",
    "log10_n_alpha = np.array([-5.0, -6.0, -7.0])\n",
    "depth = np.array([5.0, 25.0, 300.0])\n",
    "nth_fwhm_1pc = np.array([2.0, 1.75, 1.5])\n",
    "\n",
    "tspin = physics.calc_spin_temp(tkin, 10.0**log10_nHI, 10.0**log10_n_alpha).eval()\n",
    "print(\"tspin\", tspin)\n",
    "\n",
    "fwhm2_nonthermal = physics.calc_nonthermal_fwhm(depth, nth_fwhm_1pc, 1/3)**2.0\n",
    "print(\"fwhm2_nonthermal\", fwhm2_nonthermal)\n",
    "\n",
    "fwhm2_thermal = physics.calc_thermal_fwhm2(tkin)\n",
    "print(\"fwhm2_thermal\", fwhm2_thermal)\n",
    "\n",
    "fwhm2 = fwhm2_nonthermal + fwhm2_thermal\n",
    "print(\"fwhm2\", fwhm2)\n",
    "\n",
    "fwhm2_thermal_fraction = fwhm2_thermal/fwhm2\n",
    "print(\"fwhm2_thermal_fraction\", fwhm2_thermal_fraction)\n",
    "\n",
    "log10_Pth = np.log10(tkin) + log10_nHI\n",
    "print(\"log10_Pth\", log10_Pth)\n",
    "\n",
    "log10_NHI = log10_nHI + np.log10(depth) + 18.489351\n",
    "print(\"log10_NHI\", log10_NHI)\n",
    "\n",
    "tau_total = physics.calc_tau_total(10.0**log10_NHI, tspin)\n",
    "print(\"tau_total\", tau_total)\n",
    "\n",
    "log10_wt_ff_fwhm2_thermal = np.log10(absorption_weight / filling_factor / fwhm2_thermal)\n",
    "print(\"log10_wt_ff_fwhm2_thermal\", log10_wt_ff_fwhm2_thermal)\n",
    "\n",
    "sim_params = {\n",
    "    \"log10_wt_ff_fwhm2_thermal\": log10_wt_ff_fwhm2_thermal,\n",
    "    \"absorption_weight\": absorption_weight,\n",
    "    \"filling_factor\": filling_factor,\n",
    "    \"log10_NHI\": log10_NHI,\n",
    "    \"fwhm2\": fwhm2,\n",
    "    \"fwhm2_thermal_fraction\": fwhm2_thermal_fraction,\n",
    "    \"velocity\": np.array([-5.0, 5.0, 10.0]),\n",
    "    \"log10_n_alpha\": log10_n_alpha,\n",
    "    \"nth_fwhm_1pc\": nth_fwhm_1pc,\n",
    "    \"baseline_absorption_norm\": [0.0],\n",
    "}\n",
    "\n",
    "# add derived quantities to sim_params\n",
    "for key in model.cloud_deterministics:\n",
    "    if key not in sim_params.keys():\n",
    "        sim_params[key] = model.model[key].eval(sim_params, on_unused_input=\"ignore\")\n",
    "\n",
    "# Evaluate and save simulated observation\n",
    "emission = model.model[\"emission\"].eval(sim_params, on_unused_input=\"ignore\")\n",
    "absorption = model.model[\"absorption\"].eval(sim_params, on_unused_input=\"ignore\")\n",
    "\n",
    "data = {\n",
    "    \"emission\": SpecData(\n",
    "        emission_axis,\n",
    "        emission,\n",
    "        rms_emission,\n",
    "        xlabel=r\"$V_{\\rm LSR}$ (km s$^{-1}$)\",\n",
    "        ylabel=r\"$T_B$ (K)\",\n",
    "    ),\n",
    "    \"absorption\": SpecData(\n",
    "        absorption_axis,\n",
    "        absorption,\n",
    "        rms_absorption,\n",
    "        xlabel=r\"$V_{\\rm LSR}$ (km s$^{-1}$)\",\n",
    "        ylabel=r\"1 - exp(-$\\tau$)\",\n",
    "    ),\n",
    "}"
   ]
  },
  {
   "cell_type": "code",
   "execution_count": 5,
   "id": "15c936e8",
   "metadata": {},
   "outputs": [
    {
     "data": {
      "image/png": "[encoded data removed]",
      "text/plain": [
       "<Figure size 640x480 with 2 Axes>"
      ]
     },
     "metadata": {},
     "output_type": "display_data"
    }
   ],
   "source": [
    "# Plot data\n",
    "fig, axes = plt.subplots(2, layout=\"constrained\", sharex=True)\n",
    "axes[0].plot(data[\"emission\"].spectral, data[\"emission\"].brightness, \"k-\")\n",
    "axes[0].plot(data[\"emission\"].spectral, data[\"emission\"].noise, \"r-\")\n",
    "axes[1].plot(data[\"absorption\"].spectral, data[\"absorption\"].brightness, \"k-\", label=\"Data\")\n",
    "axes[1].plot(data[\"absorption\"].spectral, data[\"absorption\"].noise, \"r-\", label=\"Noise\")\n",
    "axes[1].set_xlabel(data[\"emission\"].xlabel)\n",
    "axes[0].set_ylabel(data[\"emission\"].ylabel)\n",
    "axes[1].set_ylabel(data[\"absorption\"].ylabel)\n",
    "_ = axes[1].legend(loc=\"upper left\")"
   ]
  },
  {
   "cell_type": "markdown",
   "id": "20a2225f",
   "metadata": {},
   "source": [
    "## `Optimize`\n",
    "\n",
    "We use the `Optimize` class for optimization."
   ]
  },
  {
   "cell_type": "code",
   "execution_count": 7,
   "id": "ec488d1d",
   "metadata": {
    "ExecuteTime": {
     "end_time": "2024-08-05T19:59:10.725568Z",
     "start_time": "2024-08-05T19:59:10.599441Z"
    }
   },
   "outputs": [],
   "source": [
    "from bayes_spec import Optimize\n",
    "\n",
    "# Initialize optimizer\n",
    "opt = Optimize(\n",
    "    EmissionAbsorptionPhysicalModel,  # model definition\n",
    "    data,  # data dictionary\n",
    "    max_n_clouds=5,  # maximum number of clouds\n",
    "    baseline_degree=baseline_degree,  # polynomial baseline degree\n",
    "    depth_nth_fwhm_power = 1/3, # assumed non-thermal FWHM vs. depth power law index\n",
    "    bg_temp=3.77,  # assumed background brightness temperature (K)\n",
    "    seed=1234,  # random seed\n",
    "    verbose=True,  # verbosity\n",
    ")\n",
    "\n",
    "# Define each model\n",
    "opt.add_priors(\n",
    "    prior_sigma_log10_NHI=0.5, # log-normal column density distribution width\n",
    "    prior_ff_NHI=1.0e21, # filling factor * column density prior width (cm-2)\n",
    "    prior_fwhm2=500.0, # FWHM^2 prior width (km2 s-2)\n",
    "    prior_fwhm2_thermal_fraction=[2.0, 2.0], # thermal FWHM^2 fraction prior shape\n",
    "    prior_velocity=[0.0, 10.0], # velocity prior mean and width (km/s)\n",
    "    prior_log10_n_alpha=[-6.0, 2.0], # log10(n_alpha) prior mean and width (cm-3)\n",
    "    prior_nth_fwhm_1pc=[1.75, 0.25], # non-thermal FWHM at 1 pc prior mean and width (km s-1)\n",
    "    prior_fwhm_L=None, # Assume Gaussian line profile\n",
    "    prior_baseline_coeffs=None, # Default baseline priors\n",
    ")\n",
    "opt.add_likelihood()"
   ]
  },
  {
   "cell_type": "markdown",
   "id": "6b4b0d06",
   "metadata": {},
   "source": [
    "`Optimize` has created `max_n_clouds` models, where `opt.models[1]` has `n_clouds=1`, `opt.models[2]` has `n_clouds=2`, etc."
   ]
  },
  {
   "cell_type": "code",
   "execution_count": 8,
   "id": "e66910c3",
   "metadata": {
    "ExecuteTime": {
     "end_time": "2024-08-05T19:59:10.730059Z",
     "start_time": "2024-08-05T19:59:10.727121Z"
    }
   },
   "outputs": [
    {
     "name": "stdout",
     "output_type": "stream",
     "text": [
      "<caribou_hi.emission_absorption_physical_model.EmissionAbsorptionPhysicalModel object at 0x7fbab5f13ce0>\n",
      "4\n"
     ]
    }
   ],
   "source": [
    "print(opt.models[4])\n",
    "print(opt.models[4].n_clouds)"
   ]
  },
  {
   "cell_type": "markdown",
   "id": "3cc17df3",
   "metadata": {},
   "source": [
    "By default (`approx=True`), the optimization algorithm first loops over every model and approximates the posterior distribution using variational inference. This is generally a bad idea, since VI is only an approximation and tends to struggle with complex models. Instead we use `approx=False` to sample every model with MCMC. This is slower but more robust.\n",
    "\n",
    "We can supply arguments to `fit` and `sample` via dictionaries. Whichever model is the first to have a BIC within `bic_threshold` of the minimum BIC is the \"best\" model. The algorithm will terminate early if successive models have increasing BICs or fail to converge."
   ]
  },
  {
   "cell_type": "code",
   "execution_count": 9,
   "id": "cf08c08c",
   "metadata": {
    "ExecuteTime": {
     "end_time": "2024-08-05T19:59:59.141293Z",
     "start_time": "2024-08-05T19:59:10.731559Z"
    }
   },
   "outputs": [
    {
     "name": "stdout",
     "output_type": "stream",
     "text": [
      "Null hypothesis BIC = 2.126e+05\n",
      "Sampling n_cloud = 1 posterior...\n",
      "Initializing NUTS using custom advi+adapt_diag strategy\n"
     ]
    },
    {
     "data": {
      "application/vnd.jupyter.widget-view+json": {
       "model_id": "1ad6be6fc1174c0cb0ddfdd2254b275a",
       "version_major": 2,
       "version_minor": 0
      },
      "text/plain": [
       "Output()"
      ]
     },
     "metadata": {},
     "output_type": "display_data"
    },
    {
     "data": {
      "text/html": [
       "<pre style=\"white-space:pre;overflow-x:auto;line-height:normal;font-family:Menlo,'DejaVu Sans Mono',consolas,'Courier New',monospace\"></pre>\n"
      ],
      "text/plain": []
     },
     "metadata": {},
     "output_type": "display_data"
    },
    {
     "name": "stderr",
     "output_type": "stream",
     "text": [
      "Convergence achieved at 4800\n",
      "Interrupted at 4,799 [4%]: Average Loss = 52,599\n",
      "Multiprocess sampling (8 chains in 8 jobs)\n",
      "NUTS: [baseline_emission_norm, baseline_absorption_norm, fwhm2_norm, velocity_norm, log10_n_alpha_norm, nth_fwhm_1pc, ff_NHI_norm, fwhm2_thermal_fraction_norm, filling_factor_norm, log10_wt_ff_fwhm2_thermal]\n"
     ]
    },
    {
     "data": {
      "application/vnd.jupyter.widget-view+json": {
       "model_id": "c10a7ec4662a4690aa32f20ee24f0527",
       "version_major": 2,
       "version_minor": 0
      },
      "text/plain": [
       "Output()"
      ]
     },
     "metadata": {},
     "output_type": "display_data"
    },
    {
     "data": {
      "text/html": [
       "<pre style=\"white-space:pre;overflow-x:auto;line-height:normal;font-family:Menlo,'DejaVu Sans Mono',consolas,'Courier New',monospace\"></pre>\n"
      ],
      "text/plain": []
     },
     "metadata": {},
     "output_type": "display_data"
    },
    {
     "name": "stderr",
     "output_type": "stream",
     "text": [
      "Sampling 8 chains for 1_000 tune and 1_000 draw iterations (8_000 + 8_000 draws total) took 6 seconds.\n"
     ]
    },
    {
     "name": "stdout",
     "output_type": "stream",
     "text": [
      "Adding log-likelihood to trace\n"
     ]
    },
    {
     "data": {
      "application/vnd.jupyter.widget-view+json": {
       "model_id": "7401cb38f51642e4a94c5d4394f163f8",
       "version_major": 2,
       "version_minor": 0
      },
      "text/plain": [
       "Output()"
      ]
     },
     "metadata": {},
     "output_type": "display_data"
    },
    {
     "data": {
      "text/html": [
       "<pre style=\"white-space:pre;overflow-x:auto;line-height:normal;font-family:Menlo,'DejaVu Sans Mono',consolas,'Courier New',monospace\"></pre>\n"
      ],
      "text/plain": []
     },
     "metadata": {},
     "output_type": "display_data"
    },
    {
     "name": "stdout",
     "output_type": "stream",
     "text": [
      "There were 7 divergences in converged chains.\n",
      "GMM converged to unique solution\n",
      "n_cloud = 1 solution = 0 BIC = 1.854e+04\n",
      "\n",
      "Sampling n_cloud = 2 posterior...\n",
      "Initializing NUTS using custom advi+adapt_diag strategy\n"
     ]
    },
    {
     "data": {
      "application/vnd.jupyter.widget-view+json": {
       "model_id": "24095aba5e8d4974bcd681ba1530bd1e",
       "version_major": 2,
       "version_minor": 0
      },
      "text/plain": [
       "Output()"
      ]
     },
     "metadata": {},
     "output_type": "display_data"
    },
    {
     "data": {
      "text/html": [
       "<pre style=\"white-space:pre;overflow-x:auto;line-height:normal;font-family:Menlo,'DejaVu Sans Mono',consolas,'Courier New',monospace\"></pre>\n"
      ],
      "text/plain": []
     },
     "metadata": {},
     "output_type": "display_data"
    },
    {
     "name": "stderr",
     "output_type": "stream",
     "text": [
      "Convergence achieved at 7400\n",
      "Interrupted at 7,399 [7%]: Average Loss = 74,216\n",
      "Multiprocess sampling (8 chains in 8 jobs)\n",
      "NUTS: [baseline_emission_norm, baseline_absorption_norm, fwhm2_norm, velocity_norm, log10_n_alpha_norm, nth_fwhm_1pc, ff_NHI_norm, fwhm2_thermal_fraction_norm, filling_factor_norm, log10_wt_ff_fwhm2_thermal]\n"
     ]
    },
    {
     "data": {
      "application/vnd.jupyter.widget-view+json": {
       "model_id": "ca455fef74a44b6c8b16bbd5d9ac84a7",
       "version_major": 2,
       "version_minor": 0
      },
      "text/plain": [
       "Output()"
      ]
     },
     "metadata": {},
     "output_type": "display_data"
    },
    {
     "data": {
      "text/html": [
       "<pre style=\"white-space:pre;overflow-x:auto;line-height:normal;font-family:Menlo,'DejaVu Sans Mono',consolas,'Courier New',monospace\"></pre>\n"
      ],
      "text/plain": []
     },
     "metadata": {},
     "output_type": "display_data"
    },
    {
     "name": "stderr",
     "output_type": "stream",
     "text": [
      "Sampling 8 chains for 1_000 tune and 1_000 draw iterations (8_000 + 8_000 draws total) took 28 seconds.\n"
     ]
    },
    {
     "name": "stdout",
     "output_type": "stream",
     "text": [
      "Adding log-likelihood to trace\n"
     ]
    },
    {
     "data": {
      "application/vnd.jupyter.widget-view+json": {
       "model_id": "f67c03c393ed40959076fbc421baa958",
       "version_major": 2,
       "version_minor": 0
      },
      "text/plain": [
       "Output()"
      ]
     },
     "metadata": {},
     "output_type": "display_data"
    },
    {
     "data": {
      "text/html": [
       "<pre style=\"white-space:pre;overflow-x:auto;line-height:normal;font-family:Menlo,'DejaVu Sans Mono',consolas,'Courier New',monospace\"></pre>\n"
      ],
      "text/plain": []
     },
     "metadata": {},
     "output_type": "display_data"
    },
    {
     "name": "stdout",
     "output_type": "stream",
     "text": [
      "GMM converged to unique solution\n",
      "n_cloud = 2 solution = 0 BIC = 3.008e+03\n",
      "\n",
      "Sampling n_cloud = 3 posterior...\n",
      "Initializing NUTS using custom advi+adapt_diag strategy\n"
     ]
    },
    {
     "data": {
      "application/vnd.jupyter.widget-view+json": {
       "model_id": "9659d2872cba41118e329c5e9185c0de",
       "version_major": 2,
       "version_minor": 0
      },
      "text/plain": [
       "Output()"
      ]
     },
     "metadata": {},
     "output_type": "display_data"
    },
    {
     "data": {
      "text/html": [
       "<pre style=\"white-space:pre;overflow-x:auto;line-height:normal;font-family:Menlo,'DejaVu Sans Mono',consolas,'Courier New',monospace\"></pre>\n"
      ],
      "text/plain": []
     },
     "metadata": {},
     "output_type": "display_data"
    },
    {
     "name": "stderr",
     "output_type": "stream",
     "text": [
      "Convergence achieved at 7200\n",
      "Interrupted at 7,199 [7%]: Average Loss = 1.5246e+05\n",
      "Multiprocess sampling (8 chains in 8 jobs)\n",
      "NUTS: [baseline_emission_norm, baseline_absorption_norm, fwhm2_norm, velocity_norm, log10_n_alpha_norm, nth_fwhm_1pc, ff_NHI_norm, fwhm2_thermal_fraction_norm, filling_factor_norm, log10_wt_ff_fwhm2_thermal]\n"
     ]
    },
    {
     "data": {
      "application/vnd.jupyter.widget-view+json": {
       "model_id": "365c3b19ce9048699e8691e4726a47e5",
       "version_major": 2,
       "version_minor": 0
      },
      "text/plain": [
       "Output()"
      ]
     },
     "metadata": {},
     "output_type": "display_data"
    },
    {
     "data": {
      "text/html": [
       "<pre style=\"white-space:pre;overflow-x:auto;line-height:normal;font-family:Menlo,'DejaVu Sans Mono',consolas,'Courier New',monospace\"></pre>\n"
      ],
      "text/plain": []
     },
     "metadata": {},
     "output_type": "display_data"
    },
    {
     "name": "stderr",
     "output_type": "stream",
     "text": [
      "Sampling 8 chains for 1_000 tune and 1_000 draw iterations (8_000 + 8_000 draws total) took 37 seconds.\n"
     ]
    },
    {
     "name": "stdout",
     "output_type": "stream",
     "text": [
      "Adding log-likelihood to trace\n"
     ]
    },
    {
     "data": {
      "application/vnd.jupyter.widget-view+json": {
       "model_id": "165a09e7a77442b7b1ec64f6a62edb2a",
       "version_major": 2,
       "version_minor": 0
      },
      "text/plain": [
       "Output()"
      ]
     },
     "metadata": {},
     "output_type": "display_data"
    },
    {
     "data": {
      "text/html": [
       "<pre style=\"white-space:pre;overflow-x:auto;line-height:normal;font-family:Menlo,'DejaVu Sans Mono',consolas,'Courier New',monospace\"></pre>\n"
      ],
      "text/plain": []
     },
     "metadata": {},
     "output_type": "display_data"
    },
    {
     "name": "stdout",
     "output_type": "stream",
     "text": [
      "There were 64 divergences in converged chains.\n",
      "GMM converged to unique solution\n",
      "n_cloud = 3 solution = 0 BIC = -8.161e+02\n",
      "\n",
      "Sampling n_cloud = 4 posterior...\n",
      "Initializing NUTS using custom advi+adapt_diag strategy\n"
     ]
    },
    {
     "data": {
      "application/vnd.jupyter.widget-view+json": {
       "model_id": "bdb26fdc94d14e8aace4571c05b7e50c",
       "version_major": 2,
       "version_minor": 0
      },
      "text/plain": [
       "Output()"
      ]
     },
     "metadata": {},
     "output_type": "display_data"
    },
    {
     "data": {
      "text/html": [
       "<pre style=\"white-space:pre;overflow-x:auto;line-height:normal;font-family:Menlo,'DejaVu Sans Mono',consolas,'Courier New',monospace\"></pre>\n"
      ],
      "text/plain": []
     },
     "metadata": {},
     "output_type": "display_data"
    },
    {
     "name": "stderr",
     "output_type": "stream",
     "text": [
      "Convergence achieved at 8500\n",
      "Interrupted at 8,499 [8%]: Average Loss = 2.2165e+05\n",
      "Multiprocess sampling (8 chains in 8 jobs)\n",
      "NUTS: [baseline_emission_norm, baseline_absorption_norm, fwhm2_norm, velocity_norm, log10_n_alpha_norm, nth_fwhm_1pc, ff_NHI_norm, fwhm2_thermal_fraction_norm, filling_factor_norm, log10_wt_ff_fwhm2_thermal]\n"
     ]
    },
    {
     "data": {
      "application/vnd.jupyter.widget-view+json": {
       "model_id": "4b0a5413168f416a83f604e4c053cc61",
       "version_major": 2,
       "version_minor": 0
      },
      "text/plain": [
       "Output()"
      ]
     },
     "metadata": {},
     "output_type": "display_data"
    },
    {
     "data": {
      "text/html": [
       "<pre style=\"white-space:pre;overflow-x:auto;line-height:normal;font-family:Menlo,'DejaVu Sans Mono',consolas,'Courier New',monospace\"></pre>\n"
      ],
      "text/plain": []
     },
     "metadata": {},
     "output_type": "display_data"
    },
    {
     "name": "stderr",
     "output_type": "stream",
     "text": [
      "Sampling 8 chains for 1_000 tune and 1_000 draw iterations (8_000 + 8_000 draws total) took 50 seconds.\n"
     ]
    },
    {
     "name": "stdout",
     "output_type": "stream",
     "text": [
      "Adding log-likelihood to trace\n"
     ]
    },
    {
     "data": {
      "application/vnd.jupyter.widget-view+json": {
       "model_id": "3f05417549b64abca7467d7159084410",
       "version_major": 2,
       "version_minor": 0
      },
      "text/plain": [
       "Output()"
      ]
     },
     "metadata": {},
     "output_type": "display_data"
    },
    {
     "data": {
      "text/html": [
       "<pre style=\"white-space:pre;overflow-x:auto;line-height:normal;font-family:Menlo,'DejaVu Sans Mono',consolas,'Courier New',monospace\"></pre>\n"
      ],
      "text/plain": []
     },
     "metadata": {},
     "output_type": "display_data"
    },
    {
     "name": "stdout",
     "output_type": "stream",
     "text": [
      "There were 426 divergences in converged chains.\n",
      "GMM converged to unique solution\n",
      "n_cloud = 4 solution = 0 BIC = -7.710e+02\n",
      "\n",
      "Stopping criteria met.\n",
      "Sampling n_cloud = 5 posterior...\n",
      "Initializing NUTS using custom advi+adapt_diag strategy\n"
     ]
    },
    {
     "data": {
      "application/vnd.jupyter.widget-view+json": {
       "model_id": "9e9b0ad208ac4252be7cfea03abef154",
       "version_major": 2,
       "version_minor": 0
      },
      "text/plain": [
       "Output()"
      ]
     },
     "metadata": {},
     "output_type": "display_data"
    },
    {
     "data": {
      "text/html": [
       "<pre style=\"white-space:pre;overflow-x:auto;line-height:normal;font-family:Menlo,'DejaVu Sans Mono',consolas,'Courier New',monospace\"></pre>\n"
      ],
      "text/plain": []
     },
     "metadata": {},
     "output_type": "display_data"
    },
    {
     "name": "stderr",
     "output_type": "stream",
     "text": [
      "Convergence achieved at 14800\n",
      "Interrupted at 14,799 [14%]: Average Loss = 1.7483e+05\n",
      "Multiprocess sampling (8 chains in 8 jobs)\n",
      "NUTS: [baseline_emission_norm, baseline_absorption_norm, fwhm2_norm, velocity_norm, log10_n_alpha_norm, nth_fwhm_1pc, ff_NHI_norm, fwhm2_thermal_fraction_norm, filling_factor_norm, log10_wt_ff_fwhm2_thermal]\n"
     ]
    },
    {
     "data": {
      "application/vnd.jupyter.widget-view+json": {
       "model_id": "f276a9b68b86414fb4f819b7b92c5dea",
       "version_major": 2,
       "version_minor": 0
      },
      "text/plain": [
       "Output()"
      ]
     },
     "metadata": {},
     "output_type": "display_data"
    },
    {
     "data": {
      "text/html": [
       "<pre style=\"white-space:pre;overflow-x:auto;line-height:normal;font-family:Menlo,'DejaVu Sans Mono',consolas,'Courier New',monospace\"></pre>\n"
      ],
      "text/plain": []
     },
     "metadata": {},
     "output_type": "display_data"
    },
    {
     "name": "stderr",
     "output_type": "stream",
     "text": [
      "Sampling 8 chains for 1_000 tune and 1_000 draw iterations (8_000 + 8_000 draws total) took 379 seconds.\n"
     ]
    },
    {
     "name": "stdout",
     "output_type": "stream",
     "text": [
      "Adding log-likelihood to trace\n"
     ]
    },
    {
     "data": {
      "application/vnd.jupyter.widget-view+json": {
       "model_id": "8b6db386fcb94387a3a1c3b23be0c5bb",
       "version_major": 2,
       "version_minor": 0
      },
      "text/plain": [
       "Output()"
      ]
     },
     "metadata": {},
     "output_type": "display_data"
    },
    {
     "data": {
      "text/html": [
       "<pre style=\"white-space:pre;overflow-x:auto;line-height:normal;font-family:Menlo,'DejaVu Sans Mono',consolas,'Courier New',monospace\"></pre>\n"
      ],
      "text/plain": []
     },
     "metadata": {},
     "output_type": "display_data"
    },
    {
     "name": "stdout",
     "output_type": "stream",
     "text": [
      "There were 676 divergences in converged chains.\n",
      "No solution found!\n",
      "0 of 8 chains appear converged.\n",
      "\n",
      "Stopping criteria met.\n",
      "Stopping early.\n"
     ]
    }
   ],
   "source": [
    "fit_kwargs = {\n",
    "    \"rel_tolerance\": 0.05,\n",
    "    \"abs_tolerance\": 0.05,\n",
    "    \"learning_rate\": 0.01,\n",
    "}\n",
    "sample_kwargs = {\n",
    "    \"chains\": 8,\n",
    "    \"cores\": 8,\n",
    "    \"init_kwargs\": fit_kwargs,\n",
    "    \"nuts_kwargs\": {\"target_accept\": 0.8},\n",
    "}\n",
    "opt.optimize(\n",
    "    bic_threshold=10.0,\n",
    "    sample_kwargs=sample_kwargs,\n",
    "    fit_kwargs=fit_kwargs,\n",
    "    approx=False,\n",
    "    start_spread = {\"velocity_norm\": [-1.0, 1.0]},\n",
    ")"
   ]
  },
  {
   "cell_type": "code",
   "execution_count": 10,
   "id": "0486ae8b",
   "metadata": {},
   "outputs": [
    {
     "data": {
      "text/plain": [
       "3"
      ]
     },
     "execution_count": 10,
     "metadata": {},
     "output_type": "execute_result"
    }
   ],
   "source": [
    "opt.best_model.n_clouds"
   ]
  },
  {
   "cell_type": "code",
   "execution_count": 11,
   "id": "ba72835b",
   "metadata": {},
   "outputs": [
    {
     "name": "stderr",
     "output_type": "stream",
     "text": [
      "Sampling: [absorption, emission]\n"
     ]
    },
    {
     "data": {
      "application/vnd.jupyter.widget-view+json": {
       "model_id": "2188dd85aefe4591a087aa5f46988de4",
       "version_major": 2,
       "version_minor": 0
      },
      "text/plain": [
       "Output()"
      ]
     },
     "metadata": {},
     "output_type": "display_data"
    },
    {
     "data": {
      "text/html": [
       "<pre style=\"white-space:pre;overflow-x:auto;line-height:normal;font-family:Menlo,'DejaVu Sans Mono',consolas,'Courier New',monospace\"></pre>\n"
      ],
      "text/plain": []
     },
     "metadata": {},
     "output_type": "display_data"
    },
    {
     "data": {
      "image/png": "[encoded data removed]",
      "text/plain": [
       "<Figure size 640x480 with 2 Axes>"
      ]
     },
     "metadata": {},
     "output_type": "display_data"
    }
   ],
   "source": [
    "from bayes_spec.plots import plot_predictive\n",
    "\n",
    "posterior = opt.best_model.sample_posterior_predictive(\n",
    "    thin=100, # keep one in {thin} posterior samples\n",
    ")\n",
    "axes = plot_predictive(opt.best_model.data, posterior.posterior_predictive)\n",
    "axes.ravel()[0].sharex(axes.ravel()[1])"
   ]
  },
  {
   "cell_type": "code",
   "execution_count": null,
   "id": "99a89912-b4ae-4f25-a1af-8005328aed12",
   "metadata": {},
   "outputs": [],
   "source": []
  }
 ],
 "metadata": {
  "kernelspec": {
   "display_name": "Python 3 (ipykernel)",
   "language": "python",
   "name": "python3"
  },
  "language_info": {
   "codemirror_mode": {
    "name": "ipython",
    "version": 3
   },
   "file_extension": ".py",
   "mimetype": "text/x-python",
   "name": "python",
   "nbconvert_exporter": "python",
   "pygments_lexer": "ipython3",
   "version": "3.13.3"
  }
 },
 "nbformat": 4,
 "nbformat_minor": 5
}
